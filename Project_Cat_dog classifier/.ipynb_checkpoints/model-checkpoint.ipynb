{
 "cells": [
  {
   "cell_type": "code",
   "execution_count": 43,
   "metadata": {},
   "outputs": [],
   "source": [
    "import numpy as np\n",
    "import pandas as pd\n",
    "import matplotlib.pyplot as plt\n",
    "import seaborn as sns\n",
    "import tensorflow as tf\n",
    "import warnings"
   ]
  },
  {
   "cell_type": "markdown",
   "metadata": {},
   "source": [
    "Model and Classes are imported\n"
   ]
  },
  {
   "cell_type": "code",
   "execution_count": 44,
   "metadata": {},
   "outputs": [],
   "source": [
    "from keras.models import Sequential\n",
    "from keras.layers import Conv2D\n",
    "from keras.layers import MaxPooling2D\n",
    "from keras.layers import Flatten\n",
    "from keras.layers import Dense"
   ]
  },
  {
   "cell_type": "code",
   "execution_count": 45,
   "metadata": {},
   "outputs": [],
   "source": [
    "classifier = Sequential()"
   ]
  },
  {
   "cell_type": "code",
   "execution_count": 46,
   "metadata": {},
   "outputs": [],
   "source": [
    "classifier.add(Conv2D(32, (3, 3), input_shape = (64, 64, 3), activation = 'relu'))\n",
    "# Step 2 - Pooling\n",
    "classifier.add(MaxPooling2D(pool_size = (2, 2)))\n",
    "classifier.add(Conv2D(32, (3, 3), input_shape = (32, 32, 3), activation = 'relu'))\n",
    "classifier.add(Flatten())\n",
    "classifier.add(Dense(units = 128, activation = 'relu'))\n",
    "classifier.add(Dense(units = 1, activation = 'sigmoid'))"
   ]
  },
  {
   "cell_type": "code",
   "execution_count": 47,
   "metadata": {},
   "outputs": [],
   "source": [
    "classifier.compile(optimizer = 'adam', loss = 'binary_crossentropy', metrics = ['accuracy'])"
   ]
  },
  {
   "cell_type": "code",
   "execution_count": 48,
   "metadata": {},
   "outputs": [],
   "source": [
    "from keras.preprocessing.image import ImageDataGenerator"
   ]
  },
  {
   "cell_type": "code",
   "execution_count": 49,
   "metadata": {},
   "outputs": [],
   "source": [
    "train_datagen = ImageDataGenerator(rescale = 1./255,\n",
    "                                   shear_range = 0.2,\n",
    "                                   zoom_range = 0.2,\n",
    "                                   horizontal_flip = True)"
   ]
  },
  {
   "cell_type": "code",
   "execution_count": 50,
   "metadata": {},
   "outputs": [
    {
     "name": "stdout",
     "output_type": "stream",
     "text": [
      "Found 2000 images belonging to 2 classes.\n"
     ]
    }
   ],
   "source": [
    "test_datagen = ImageDataGenerator(rescale = 1./255)\n",
    "\n",
    "training_set = train_datagen.flow_from_directory('C:\\\\Users\\\\divya\\\\OneDrive\\\\Desktop\\\\DL\\\\Deep-Learning\\\\Project_data\\\\Cat_dog_data\\\\train',\n",
    "                                                 target_size = (64, 64),\n",
    "                                                 batch_size = 32,\n",
    "                                                 class_mode = 'binary')"
   ]
  },
  {
   "cell_type": "code",
   "execution_count": 51,
   "metadata": {},
   "outputs": [
    {
     "name": "stdout",
     "output_type": "stream",
     "text": [
      "Found 1000 images belonging to 2 classes.\n"
     ]
    }
   ],
   "source": [
    "test_set = test_datagen.flow_from_directory('C:\\\\Users\\\\divya\\\\OneDrive\\\\Desktop\\\\DL\\\\Deep-Learning\\\\Project_data\\\\Cat_dog_data\\\\validation',\n",
    "                                            target_size = (64, 64),\n",
    "                                            batch_size = 32,\n",
    "                                            class_mode = 'binary')"
   ]
  },
  {
   "cell_type": "code",
   "execution_count": 52,
   "metadata": {},
   "outputs": [],
   "source": [
    "steps_per_epoch = 2000//32\n",
    "validation_steps = 1000//32"
   ]
  },
  {
   "cell_type": "code",
   "execution_count": 53,
   "metadata": {},
   "outputs": [
    {
     "name": "stderr",
     "output_type": "stream",
     "text": [
      "C:\\Users\\divya\\AppData\\Local\\Temp\\ipykernel_4184\\1435407744.py:1: UserWarning: `Model.fit_generator` is deprecated and will be removed in a future version. Please use `Model.fit`, which supports generators.\n",
      "  model = classifier.fit_generator(training_set,\n"
     ]
    },
    {
     "name": "stdout",
     "output_type": "stream",
     "text": [
      "Epoch 1/10\n",
      "62/62 [==============================] - 67s 1s/step - loss: 0.7800 - accuracy: 0.5412 - val_loss: 0.6992 - val_accuracy: 0.5111\n",
      "Epoch 2/10\n",
      "62/62 [==============================] - 16s 256ms/step - loss: 0.6576 - accuracy: 0.6118 - val_loss: 0.6326 - val_accuracy: 0.6492\n",
      "Epoch 3/10\n",
      "62/62 [==============================] - 15s 246ms/step - loss: 0.6166 - accuracy: 0.6641 - val_loss: 0.6326 - val_accuracy: 0.6331\n",
      "Epoch 4/10\n",
      "62/62 [==============================] - 16s 253ms/step - loss: 0.6077 - accuracy: 0.6753 - val_loss: 0.5907 - val_accuracy: 0.6996\n",
      "Epoch 5/10\n",
      "62/62 [==============================] - 15s 248ms/step - loss: 0.5786 - accuracy: 0.7022 - val_loss: 0.5898 - val_accuracy: 0.6794\n",
      "Epoch 6/10\n",
      "62/62 [==============================] - 16s 250ms/step - loss: 0.5703 - accuracy: 0.7078 - val_loss: 0.5824 - val_accuracy: 0.6835\n",
      "Epoch 7/10\n",
      "62/62 [==============================] - 15s 246ms/step - loss: 0.5537 - accuracy: 0.7134 - val_loss: 0.5811 - val_accuracy: 0.7097\n",
      "Epoch 8/10\n",
      "62/62 [==============================] - 15s 247ms/step - loss: 0.5448 - accuracy: 0.7231 - val_loss: 0.5820 - val_accuracy: 0.6935\n",
      "Epoch 9/10\n",
      "62/62 [==============================] - 21s 347ms/step - loss: 0.5411 - accuracy: 0.7332 - val_loss: 0.5762 - val_accuracy: 0.6865\n",
      "Epoch 10/10\n",
      "62/62 [==============================] - 40s 650ms/step - loss: 0.5179 - accuracy: 0.7464 - val_loss: 0.6189 - val_accuracy: 0.6583\n"
     ]
    }
   ],
   "source": [
    "model = classifier.fit_generator(training_set,\n",
    "                         steps_per_epoch = 2000//32,\n",
    "                         epochs = 10,\n",
    "                         validation_data = test_set,    \n",
    "                         validation_steps = 1000//32)"
   ]
  },
  {
   "cell_type": "code",
   "execution_count": 56,
   "metadata": {},
   "outputs": [
    {
     "ename": "ImportError",
     "evalue": "cannot import name 'load_img' from 'keras.preprocessing.image' (c:\\Users\\divya\\AppData\\Local\\Programs\\Python\\Python310\\lib\\site-packages\\keras\\preprocessing\\image.py)",
     "output_type": "error",
     "traceback": [
      "\u001b[1;31m---------------------------------------------------------------------------\u001b[0m",
      "\u001b[1;31mImportError\u001b[0m                               Traceback (most recent call last)",
      "\u001b[1;32mc:\\Users\\divya\\OneDrive\\Desktop\\DL\\Deep-Learning\\Project_Cat_dog classifier\\.ipynb_checkpoints\\model-checkpoint.ipynb Cell 13\u001b[0m in \u001b[0;36m<cell line: 2>\u001b[1;34m()\u001b[0m\n\u001b[0;32m      <a href='vscode-notebook-cell:/c%3A/Users/divya/OneDrive/Desktop/DL/Deep-Learning/Project_Cat_dog%20classifier/.ipynb_checkpoints/model-checkpoint.ipynb#X13sZmlsZQ%3D%3D?line=0'>1</a>\u001b[0m \u001b[39mfrom\u001b[39;00m \u001b[39mPIL\u001b[39;00m \u001b[39mimport\u001b[39;00m Image\n\u001b[1;32m----> <a href='vscode-notebook-cell:/c%3A/Users/divya/OneDrive/Desktop/DL/Deep-Learning/Project_Cat_dog%20classifier/.ipynb_checkpoints/model-checkpoint.ipynb#X13sZmlsZQ%3D%3D?line=1'>2</a>\u001b[0m \u001b[39mfrom\u001b[39;00m \u001b[39mkeras\u001b[39;00m\u001b[39m.\u001b[39;00m\u001b[39mpreprocessing\u001b[39;00m\u001b[39m.\u001b[39;00m\u001b[39mimage\u001b[39;00m \u001b[39mimport\u001b[39;00m load_img, img_to_array\n\u001b[0;32m      <a href='vscode-notebook-cell:/c%3A/Users/divya/OneDrive/Desktop/DL/Deep-Learning/Project_Cat_dog%20classifier/.ipynb_checkpoints/model-checkpoint.ipynb#X13sZmlsZQ%3D%3D?line=2'>3</a>\u001b[0m test_image \u001b[39m=\u001b[39m load_img(\u001b[39m'\u001b[39m\u001b[39mC:\u001b[39m\u001b[39m\\\\\u001b[39;00m\u001b[39mUsers\u001b[39m\u001b[39m\\\\\u001b[39;00m\u001b[39mdivya\u001b[39m\u001b[39m\\\\\u001b[39;00m\u001b[39mOneDrive\u001b[39m\u001b[39m\\\\\u001b[39;00m\u001b[39mDesktop\u001b[39m\u001b[39m\\\\\u001b[39;00m\u001b[39mDL\u001b[39m\u001b[39m\\\\\u001b[39;00m\u001b[39mDeep-Learning\u001b[39m\u001b[39m\\\\\u001b[39;00m\u001b[39mProject_data\u001b[39m\u001b[39m\\\\\u001b[39;00m\u001b[39ma\u001b[39m\u001b[39m\\\\\u001b[39;00m\u001b[39mNationalGeographic_2572187_square.webp\u001b[39m\u001b[39m'\u001b[39m, target_size \u001b[39m=\u001b[39m (\u001b[39m64\u001b[39m, \u001b[39m64\u001b[39m))\n\u001b[0;32m      <a href='vscode-notebook-cell:/c%3A/Users/divya/OneDrive/Desktop/DL/Deep-Learning/Project_Cat_dog%20classifier/.ipynb_checkpoints/model-checkpoint.ipynb#X13sZmlsZQ%3D%3D?line=3'>4</a>\u001b[0m test_image \u001b[39m=\u001b[39m img_to_array(test_image) \n",
      "\u001b[1;31mImportError\u001b[0m: cannot import name 'load_img' from 'keras.preprocessing.image' (c:\\Users\\divya\\AppData\\Local\\Programs\\Python\\Python310\\lib\\site-packages\\keras\\preprocessing\\image.py)"
     ]
    }
   ],
   "source": [
    "from PIL import Image\n",
    "from keras.preprocessing.image import load_img, img_to_array\n",
    "test_image = load_img('C:\\\\Users\\\\divya\\\\OneDrive\\\\Desktop\\\\DL\\\\Deep-Learning\\\\Project_data\\\\a\\\\NationalGeographic_2572187_square.webp', target_size = (64, 64))\n",
    "test_image = img_to_array(test_image) \n",
    "test_image = np.expand_dims(test_image, axis = 0)\n",
    "result = model.predict(test_image)\n",
    "training_set.class_indices\n",
    "if result[0][0] == 1:\n",
    "    prediction = 'dog'\n",
    "    print(prediction)\n",
    "else:\n",
    "    prediction = 'cat'\n",
    "    print(prediction)"
   ]
  },
  {
   "cell_type": "code",
   "execution_count": 55,
   "metadata": {},
   "outputs": [
    {
     "name": "stdout",
     "output_type": "stream",
     "text": [
      "Note: you may need to restart the kernel to use updated packages.\n"
     ]
    },
    {
     "name": "stderr",
     "output_type": "stream",
     "text": [
      "ERROR: Could not find a version that satisfies the requirement PIL (from versions: none)\n",
      "ERROR: No matching distribution found for PIL\n",
      "WARNING: You are using pip version 22.0.4; however, version 22.2.2 is available.\n",
      "You should consider upgrading via the 'c:\\Users\\divya\\AppData\\Local\\Programs\\Python\\Python310\\python.exe -m pip install --upgrade pip' command.\n"
     ]
    }
   ],
   "source": [
    "%pip install PIL"
   ]
  },
  {
   "cell_type": "code",
   "execution_count": null,
   "metadata": {},
   "outputs": [],
   "source": []
  },
  {
   "cell_type": "code",
   "execution_count": null,
   "metadata": {},
   "outputs": [],
   "source": []
  },
  {
   "cell_type": "code",
   "execution_count": null,
   "metadata": {},
   "outputs": [],
   "source": []
  }
 ],
 "metadata": {
  "kernelspec": {
   "display_name": "Python 3.10.5 64-bit",
   "language": "python",
   "name": "python3"
  },
  "language_info": {
   "codemirror_mode": {
    "name": "ipython",
    "version": 3
   },
   "file_extension": ".py",
   "mimetype": "text/x-python",
   "name": "python",
   "nbconvert_exporter": "python",
   "pygments_lexer": "ipython3",
   "version": "3.10.5"
  },
  "orig_nbformat": 4,
  "vscode": {
   "interpreter": {
    "hash": "b89eb163356ecec32b39b5fa0afb59c6df6327d25999fa4ae2b1c90491fcb0e1"
   }
  }
 },
 "nbformat": 4,
 "nbformat_minor": 2
}
